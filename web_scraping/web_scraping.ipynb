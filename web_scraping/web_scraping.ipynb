{
 "cells": [
  {
   "cell_type": "markdown",
   "id": "b888e7f6",
   "metadata": {},
   "source": [
    "# Setup"
   ]
  },
  {
   "cell_type": "code",
   "execution_count": 12,
   "id": "8c89ec83",
   "metadata": {},
   "outputs": [],
   "source": [
    "import sys\n",
    "sys.path.append(\"../geojson\")\n",
    "\n",
    "from selenium.webdriver import Firefox\n",
    "from selenium.webdriver.firefox.firefox_profile import FirefoxProfile\n",
    "from selenium.webdriver.firefox.options import Options as FirefoxOptions\n",
    "from webdriver_manager.firefox import GeckoDriverManager\n",
    "\n",
    "from selenium.webdriver.common.by import By\n",
    "from selenium.webdriver.support.ui import WebDriverWait\n",
    "from selenium.webdriver.support import expected_conditions as EC\n",
    "from selenium.webdriver.common.keys import Keys\n",
    "\n",
    "import numpy as np\n",
    "import pandas as pd\n",
    "\n",
    "import os\n",
    "import ast\n",
    "import json\n",
    "import requests\n",
    "import time\n",
    "from tqdm import tqdm\n"
   ]
  },
  {
   "cell_type": "markdown",
   "id": "083633ff",
   "metadata": {},
   "source": [
    "# Getting All Suburbs from RN"
   ]
  },
  {
   "cell_type": "code",
   "execution_count": 2,
   "id": "aac58e25",
   "metadata": {},
   "outputs": [],
   "source": [
    "json_raw = \"https://raw.githubusercontent.com/RonaldTheodoro/Estados-Cidades-e-Bairros/master/data.json\"\n",
    "resp = requests.get(json_raw)\n",
    "RN_dict = json.loads(resp.text)[\"RN\"]"
   ]
  },
  {
   "cell_type": "markdown",
   "id": "758acf75",
   "metadata": {},
   "source": [
    "# Scraping\n",
    "\n",
    "- https://nominatim.openstreetmap.org/ui/search.html\n",
    "- https://polygons.openstreetmap.fr"
   ]
  },
  {
   "cell_type": "code",
   "execution_count": 3,
   "id": "0ed64c07",
   "metadata": {},
   "outputs": [
    {
     "name": "stderr",
     "output_type": "stream",
     "text": [
      "[WDM] - ====== WebDriver manager ======\n"
     ]
    },
    {
     "name": "stdout",
     "output_type": "stream",
     "text": [
      "# 1. Init and Login\n",
      "\n",
      "\n"
     ]
    },
    {
     "name": "stderr",
     "output_type": "stream",
     "text": [
      "[WDM] - Driver [C:\\Users\\lukan\\.wdm\\drivers\\geckodriver\\win64\\v0.32.0\\geckodriver.exe] found in cache\n"
     ]
    }
   ],
   "source": [
    "print(\"# 1. Init and Login\")\n",
    "\n",
    "profile = FirefoxProfile()\n",
    "profile.set_preference(\"browser.download.panel.shown\", False)\n",
    "profile.set_preference(\"browser.helperApps.neverAsk.saveToDisk\", \"application/pdf;application/xls;text/plain; charset=utf-8; text/csv;application/json;charset=utf-8;application/pdf;text/plain;application/text;text/xml;application/xml;text/plain;text/x-csv;text/csv;application/vnd.ms-excel;application/csv;application/x-csv;text/csv;text/comma-separated-values;text/x-comma-separated-values;text/tab-separated-values;application/pdf\")\n",
    "profile.set_preference(\"browser.helperApps.neverAsk.openToDisk\", \"application/pdf;application/xls;text/plain; charset=utf-8; text/csv;application/json;charset=utf-8;application/pdf;text/plain;application/text;text/xml;application/xml;text/plain;text/x-csv;text/csv;application/vnd.ms-excel;application/csv;application/x-csv;text/csv;text/comma-separated-values;text/x-comma-separated-values;text/tab-separated-values;application/pdf\")\n",
    "profile.set_preference(\"browser.download.folderList\", 2)\n",
    "profile.set_preference(\"download.prompt_for_download\",False)\n",
    "profile.set_preference(\"pdfjs.disabled\", True)\n",
    "profile.set_preference(\"browser.download.dir\", data_path)\n",
    "options = FirefoxOptions()\n",
    "options.headless = True\n",
    "\n",
    "driver = Firefox(executable_path=GeckoDriverManager().install(),\n",
    "                 firefox_profile=profile)"
   ]
  },
  {
   "cell_type": "markdown",
   "id": "875d73f0",
   "metadata": {},
   "source": [
    "## OSM codes"
   ]
  },
  {
   "cell_type": "code",
   "execution_count": 5,
   "id": "079bfc62",
   "metadata": {
    "scrolled": true
   },
   "outputs": [
    {
     "name": "stderr",
     "output_type": "stream",
     "text": [
      "100%|██████████████████████████████████████████████████████████████████████████████████████████████████████████████████████| 18/18 [14:40<00:00, 48.94s/it]\n"
     ]
    }
   ],
   "source": [
    "nomination_url = \"https://nominatim.openstreetmap.org/ui/search.html\"\n",
    "\n",
    "search_text_xpath = '//*[@id=\"q\"]'\n",
    "search_butn_xpath = '/html/body/section[2]/div/div[1]/form/div/div[2]/button'\n",
    "details_xpath = '/html/body/div[2]/div[1]/div/div[1]/a'\n",
    "\n",
    "osm_dict_city = {}\n",
    "for city in tqdm(RN_dict.keys()):\n",
    "    osm_dict_suburb = {}\n",
    "    for suburb in RN_dict[city]:\n",
    "        try:\n",
    "            # 1. opening nominatim.openstreetmap.org\n",
    "            driver.get(nomination_url)\n",
    "    \n",
    "            time.sleep(1)\n",
    "            \n",
    "            # 2. typing the suburb and submiting\n",
    "            search_text_element = WebDriverWait(driver, 2).until(\n",
    "                EC.presence_of_element_located((By.XPATH, search_text_xpath))\n",
    "            )\n",
    "            search_butn_element = WebDriverWait(driver, 2).until(\n",
    "                EC.presence_of_element_located((By.XPATH, search_butn_xpath))\n",
    "            )\n",
    "\n",
    "            search_text_element.send_keys(f\"{suburb}, {city}, Rio Grande do Norte\")\n",
    "            driver.execute_script(\"arguments[0].click();\", search_butn_element)\n",
    "            \n",
    "            time.sleep(2)\n",
    "            \n",
    "            # 3. clicking for details\n",
    "            details_element = WebDriverWait(driver, 2).until(\n",
    "                EC.presence_of_element_located((By.XPATH, details_xpath))\n",
    "            )\n",
    "\n",
    "            driver.execute_script(\"arguments[0].click();\", details_element)\n",
    "\n",
    "            time.sleep(2)\n",
    "            \n",
    "            # 4. getting the osm code\n",
    "            osm_dict_suburb[suburb] = driver.current_url.split(\"osmid=\")[1].split(\"&\")[0]\n",
    "        \n",
    "        except:\n",
    "            osm_dict_suburb[suburb] = np.nan\n",
    "    \n",
    "    osm_dict_city[city] = osm_dict_suburb"
   ]
  },
  {
   "cell_type": "markdown",
   "id": "7b104eef",
   "metadata": {},
   "source": [
    "## Polygons"
   ]
  },
  {
   "cell_type": "code",
   "execution_count": 9,
   "id": "18b959d2",
   "metadata": {},
   "outputs": [
    {
     "name": "stderr",
     "output_type": "stream",
     "text": [
      "100%|██████████████████████████████████████████████████████████████████████████████████████████████████████████████████████| 18/18 [14:51<00:00, 49.53s/it]\n"
     ]
    }
   ],
   "source": [
    "polygon_url = \"https://polygons.openstreetmap.fr/?id={}\"\n",
    "geojson_city_polygons = {}\n",
    "for city in tqdm(RN_dict.keys()):\n",
    "    geojson_suburb_polygons = {}\n",
    "    for suburb in RN_dict[city]:\n",
    "#         if not pd.isna(osm_dict[suburb]):\n",
    "        try:\n",
    "            driver.get(polygon_url.format(osm_dict_city[city][suburb]))\n",
    "\n",
    "            time.sleep(1)\n",
    "\n",
    "            geojson_xpath = \"/html/body/table/tbody/tr/td[6]/a\"\n",
    "\n",
    "            geojson_element = WebDriverWait(driver, 2).until(\n",
    "                EC.presence_of_element_located((By.XPATH, geojson_xpath))\n",
    "            )\n",
    "\n",
    "            driver.execute_script(\"arguments[0].click();\", geojson_element)\n",
    "\n",
    "            time.sleep(1)\n",
    "\n",
    "            geojson_xpath = \"/html/body/pre\"\n",
    "\n",
    "            geojson_element = WebDriverWait(driver, 2).until(\n",
    "                EC.presence_of_element_located((By.XPATH, geojson_xpath))\n",
    "            )\n",
    "\n",
    "            result = ast.literal_eval(geojson_element.text)\n",
    "\n",
    "            geojson_suburb_polygons[suburb] = result\n",
    "        \n",
    "        except:\n",
    "            geojson_suburb_polygons[suburb] = np.nan\n",
    "    \n",
    "    geojson_city_polygons[city] = geojson_suburb_polygons"
   ]
  },
  {
   "cell_type": "markdown",
   "id": "943293af",
   "metadata": {},
   "source": [
    "# Exporting GeoJson"
   ]
  },
  {
   "cell_type": "code",
   "execution_count": 13,
   "id": "2222a130",
   "metadata": {},
   "outputs": [],
   "source": [
    "with open(\"geojson/suburbs_RN.json\", \"w\") as outfile:\n",
    "    json.dump(geojson_city_polygons, outfile)"
   ]
  }
 ],
 "metadata": {
  "hide_input": false,
  "kernelspec": {
   "display_name": "Python 3 (ipykernel)",
   "language": "python",
   "name": "python3"
  },
  "language_info": {
   "codemirror_mode": {
    "name": "ipython",
    "version": 3
   },
   "file_extension": ".py",
   "mimetype": "text/x-python",
   "name": "python",
   "nbconvert_exporter": "python",
   "pygments_lexer": "ipython3",
   "version": "3.8.15"
  },
  "toc": {
   "base_numbering": 1,
   "nav_menu": {},
   "number_sections": true,
   "sideBar": true,
   "skip_h1_title": false,
   "title_cell": "Table of Contents",
   "title_sidebar": "Contents",
   "toc_cell": false,
   "toc_position": {},
   "toc_section_display": true,
   "toc_window_display": false
  },
  "varInspector": {
   "cols": {
    "lenName": 16,
    "lenType": 16,
    "lenVar": 40
   },
   "kernels_config": {
    "python": {
     "delete_cmd_postfix": "",
     "delete_cmd_prefix": "del ",
     "library": "var_list.py",
     "varRefreshCmd": "print(var_dic_list())"
    },
    "r": {
     "delete_cmd_postfix": ") ",
     "delete_cmd_prefix": "rm(",
     "library": "var_list.r",
     "varRefreshCmd": "cat(var_dic_list()) "
    }
   },
   "types_to_exclude": [
    "module",
    "function",
    "builtin_function_or_method",
    "instance",
    "_Feature"
   ],
   "window_display": false
  }
 },
 "nbformat": 4,
 "nbformat_minor": 5
}
